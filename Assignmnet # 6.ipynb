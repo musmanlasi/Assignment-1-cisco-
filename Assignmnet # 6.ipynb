{
 "cells": [
  {
   "cell_type": "markdown",
   "metadata": {},
   "source": [
    "# Python Programming Language\n",
    "\n",
    "# Assignmnet # 6"
   ]
  },
  {
   "cell_type": "markdown",
   "metadata": {},
   "source": [
    "**Question 1:\n",
    " \n",
    "Define Object Oriented Programming Language? "
   ]
  },
  {
   "cell_type": "markdown",
   "metadata": {},
   "source": [
    "# Answer.\n",
    "\n",
    "Definition:\n",
    "__________\n",
    "An OOPL (object-oriented programming language) is a programming language that is based on the object-oriented programming model constructed around objects in which programmers define the data type of a data structure, and also the types of operations (functions) that can be applied to the data structure.\n",
    "In this way, the data structure becomes an object that includes both data and functions. In addition, programmers can create relationships between one object and another. \n",
    "Examples of object-oriented programming languages are C++, C#, Java, Pythonz etc. "
   ]
  },
  {
   "cell_type": "markdown",
   "metadata": {},
   "source": [
    "**Question 2: \n",
    "    \n",
    "List down the Benefits of OOP?"
   ]
  },
  {
   "cell_type": "markdown",
   "metadata": {},
   "source": [
    "# Answer.\n",
    "\n",
    "Benifits:\n",
    "_________\n",
    "1. Multi featured: Oop have multiple features\n",
    "Like : Data Abstraction, Inheritance, constructor, Data Encapsulation, Polymorphism, Dynamic Binding etc.\n",
    "\n",
    "2. Simplicity: OOP provides clear modular structure(real world objects) for programs, so the complexity is reduced and the program structure is very clear.\n",
    "\n",
    "3. Modularity: In oop each object forms a separate entity whose internal workings are decoupled from other parts of the system\n",
    "\n",
    "4. Modifiability: It is easy to make minor changes in the data representation or the procedures in an OO program. Changes inside a class do not affect any other part of a program, since the only public interface that the external world has to a class is through the use of methods.\n",
    "\n",
    "5. Extensibility: Adding new features or responding to changing operating environments can be solved by introducing a few new objects and modifying some existing ones.\n",
    "\n",
    "6. Maintainability: Objects can be maintained separately, making locating and fixing problems easier.\n",
    "\n",
    "7. Reusability: Objects can be reused in different program. So that the cost of development lowers and also enables faster development."
   ]
  },
  {
   "cell_type": "markdown",
   "metadata": {},
   "source": [
    "**Question 3: \n",
    "    \n",
    "Differentiate between function and method? "
   ]
  },
  {
   "cell_type": "markdown",
   "metadata": {},
   "source": [
    "# Answer.\n",
    "\n",
    "Difference:\n",
    "________________\n",
    "Python Method:\n",
    "\n",
    "1.A method is a piece of code that is called by a name that is associated with an object(dependent). In most respects it is identical to a function except for two key differences\n",
    "\n",
    "2.A method is implicitly passed the object on which it is invoked.\n",
    "\n",
    "3.It may or may not return any data.\n",
    "\n",
    "4.Methods are always defined by the user.\n",
    "\n",
    "5.A method can operate on the data (instance variables) that is contained by the corresponding class\n",
    "\n",
    "________________________________________________________________________________________________________________________\n",
    "Python Functions:\n",
    "\n",
    "1.Function is block of code that is also called by its name. (independent) .It can be passed data to operate on (i.e. the parameters) and can optionally return data (the return value)\n",
    "\n",
    "2.The function can have different parameters or may not have any at all. If any data (parameters) are passed, they are passed explicitly.\n",
    "\n",
    "3.It may or may not return any data.\n",
    "\n",
    "4.Function are of two types:\n",
    "(a)Pre-defined function and (b)User-defined function\n",
    "\n",
    "5.Function does not deal with Class and its instance concept.\n"
   ]
  },
  {
   "cell_type": "markdown",
   "metadata": {},
   "source": [
    "**Question 4: \n",
    "\n",
    "Define the following terms: \n",
    "1. Class \n",
    "2. Object \n",
    "3. Attribute \n",
    "4. Behavior"
   ]
  },
  {
   "cell_type": "markdown",
   "metadata": {},
   "source": [
    "# Answer.\n",
    "\n",
    "Definitions:\n",
    "______________\n",
    "1.Class.\n",
    "A class is a code template or  for creating objects. Objects have member variables and have behaviour associated with them. In python a class is created by the keyword class.\n",
    "\n",
    "2.Object.\n",
    "objects are the things you think about first in designing a program and they are also the units of code that are eventually derived from the process.Almost everything in Python is an object, with its properties and methods.\n",
    "\n",
    "3.Attribute. \n",
    "Everything in Python is an object, and almost everything has attributes and methods. In python, functions too are objects. So they have attributes like other objects. All functions have a built-in attribute.It's Like the properties of an Object.\n",
    "\n",
    "4.Behavior.\n",
    "The behavior of an object is defined by its methods, which are the functions and subroutines defined within the object class. ... Methods determine what type of functionality a class has, how it modifies its data, and its overall behavior"
   ]
  },
  {
   "cell_type": "markdown",
   "metadata": {},
   "source": [
    "**Question 5: \n",
    "    \n",
    "Write a code in python in which create a class named it Car which have 5 attributes such like (model, color and name etc.) and 3 methods. And create 5 object instance from that class. "
   ]
  },
  {
   "cell_type": "markdown",
   "metadata": {},
   "source": [
    "# Answer.\n",
    "_____________________________________________________________________________________________________________________"
   ]
  },
  {
   "cell_type": "code",
   "execution_count": null,
   "metadata": {},
   "outputs": [],
   "source": []
  },
  {
   "cell_type": "code",
   "execution_count": null,
   "metadata": {},
   "outputs": [],
   "source": []
  }
 ],
 "metadata": {
  "kernelspec": {
   "display_name": "Python 3",
   "language": "python",
   "name": "python3"
  },
  "language_info": {
   "codemirror_mode": {
    "name": "ipython",
    "version": 3
   },
   "file_extension": ".py",
   "mimetype": "text/x-python",
   "name": "python",
   "nbconvert_exporter": "python",
   "pygments_lexer": "ipython3",
   "version": "3.7.3"
  }
 },
 "nbformat": 4,
 "nbformat_minor": 2
}
