{
 "cells": [
  {
   "cell_type": "markdown",
   "metadata": {},
   "source": [
    "# Python Programming Language \n",
    "# Assignmnet # 3"
   ]
  },
  {
   "cell_type": "markdown",
   "metadata": {},
   "source": [
    "1. Make a calculator using Python with addition , subtraction , multiplication , division and power."
   ]
  },
  {
   "cell_type": "code",
   "execution_count": 1,
   "metadata": {},
   "outputs": [],
   "source": [
    "#Calculator "
   ]
  },
  {
   "cell_type": "code",
   "execution_count": 2,
   "metadata": {},
   "outputs": [
    {
     "name": "stdout",
     "output_type": "stream",
     "text": [
      "Enter first value: \n"
     ]
    },
    {
     "ename": "ValueError",
     "evalue": "invalid literal for int() with base 10: ''",
     "output_type": "error",
     "traceback": [
      "\u001b[1;31m---------------------------------------------------------------------------\u001b[0m",
      "\u001b[1;31mValueError\u001b[0m                                Traceback (most recent call last)",
      "\u001b[1;32m<ipython-input-2-5015e5d6889b>\u001b[0m in \u001b[0;36m<module>\u001b[1;34m\u001b[0m\n\u001b[0;32m      1\u001b[0m \u001b[0mans\u001b[0m \u001b[1;33m=\u001b[0m \u001b[1;32mNone\u001b[0m\u001b[1;33m\u001b[0m\u001b[1;33m\u001b[0m\u001b[0m\n\u001b[1;32m----> 2\u001b[1;33m \u001b[0mnum1\u001b[0m \u001b[1;33m=\u001b[0m \u001b[0mint\u001b[0m\u001b[1;33m(\u001b[0m\u001b[0minput\u001b[0m\u001b[1;33m(\u001b[0m\u001b[1;34m\"Enter first value: \"\u001b[0m\u001b[1;33m)\u001b[0m\u001b[1;33m)\u001b[0m\u001b[1;33m\u001b[0m\u001b[1;33m\u001b[0m\u001b[0m\n\u001b[0m\u001b[0;32m      3\u001b[0m \u001b[0mnum2\u001b[0m \u001b[1;33m=\u001b[0m \u001b[0mint\u001b[0m\u001b[1;33m(\u001b[0m\u001b[0minput\u001b[0m\u001b[1;33m(\u001b[0m\u001b[1;34m\"\\nEnter second value: \"\u001b[0m\u001b[1;33m)\u001b[0m\u001b[1;33m)\u001b[0m\u001b[1;33m\u001b[0m\u001b[1;33m\u001b[0m\u001b[0m\n\u001b[0;32m      4\u001b[0m \u001b[1;33m\u001b[0m\u001b[0m\n\u001b[0;32m      5\u001b[0m \u001b[1;33m\u001b[0m\u001b[0m\n",
      "\u001b[1;31mValueError\u001b[0m: invalid literal for int() with base 10: ''"
     ]
    }
   ],
   "source": [
    "ans = None\n",
    "num1 = int(input(\"Enter first value: \"))\n",
    "num2 = int(input(\"\\nEnter second value: \"))\n",
    "\n",
    "\n",
    "print(\"\\nEnter 1 to do addition      :\")\n",
    "print(\"Enter 2 to do subtraction     :\")\n",
    "print(\"Enter 3 to do multiplication  :\")\n",
    "print(\"Enter 4 to do division        :\")\n",
    "print(\"Enter 5 to do power           : \")\n",
    "choice = int(input(\"\\nEnter your command: \"))\n",
    "\n",
    "if choice == 1:\n",
    "    ans = num1+num2\n",
    "elif choice == 2:\n",
    "    ans = num1-num2\n",
    "elif choice == 3:\n",
    "    ans = num1*num2\n",
    "elif choice == 4:\n",
    "    ans = num1/num2\n",
    "elif choice == 5:\n",
    "    ans = num1**num2\n",
    "    \n",
    "print(f\"\\nAnswer : {ans}\")"
   ]
  },
  {
   "cell_type": "markdown",
   "metadata": {},
   "source": [
    "2. Write a program to check if there is any numeric value in list using for loop \n",
    " "
   ]
  },
  {
   "cell_type": "code",
   "execution_count": null,
   "metadata": {},
   "outputs": [],
   "source": [
    "#Using loop "
   ]
  },
  {
   "cell_type": "code",
   "execution_count": 3,
   "metadata": {},
   "outputs": [
    {
     "name": "stdout",
     "output_type": "stream",
     "text": [
      "Numeric value Present in list is : 19\n"
     ]
    }
   ],
   "source": [
    "List01 = [ \"Islamabad\",\"0\",\"audi\",  19 ,\"94\", \"oppo\", ]\n",
    "for value in List01:\n",
    "    if type(value) == int or type(value) == float:\n",
    "        print(f\"Numeric value Present in list is : {value}\")\n",
    "        break"
   ]
  },
  {
   "cell_type": "markdown",
   "metadata": {},
   "source": [
    "3. Write a Python script to add a key to a dictionary \n",
    " "
   ]
  },
  {
   "cell_type": "code",
   "execution_count": 4,
   "metadata": {},
   "outputs": [],
   "source": [
    "#Adding Key to Dictionary"
   ]
  },
  {
   "cell_type": "code",
   "execution_count": 5,
   "metadata": {},
   "outputs": [
    {
     "name": "stdout",
     "output_type": "stream",
     "text": [
      "Key added in dictionary\n"
     ]
    }
   ],
   "source": [
    "dic_key = {}\n",
    "dic_key[2] = \"Key added in dictionary\"\n",
    "print(dic_key[2])"
   ]
  },
  {
   "cell_type": "markdown",
   "metadata": {},
   "source": [
    "4. Write a Python program to sum all the numeric items in a dictionary \n",
    " "
   ]
  },
  {
   "cell_type": "code",
   "execution_count": 6,
   "metadata": {},
   "outputs": [],
   "source": [
    "#Sum of all numeric items in Dictionary"
   ]
  },
  {
   "cell_type": "code",
   "execution_count": 7,
   "metadata": {},
   "outputs": [
    {
     "name": "stdout",
     "output_type": "stream",
     "text": [
      "Sum of all numeric items in Dictionary = 1015.051\n"
     ]
    }
   ],
   "source": [
    "result = 0\n",
    "dic = {1: \"Say no to corruption\", \n",
    "           2: \"76.56\", \n",
    "           3: 9*5, \n",
    "           4:\"&\",\n",
    "           5: 914,\n",
    "           6:48.087 ,\n",
    "           7: \"The End of list\",\n",
    "           8: 7.964}\n",
    "\n",
    "for value in dic.values():\n",
    "    if type(value) == int or type(value) == float:\n",
    "        result = result + value        \n",
    "        \n",
    "print(f\"Sum of all numeric items in Dictionary = {result}\")"
   ]
  },
  {
   "cell_type": "markdown",
   "metadata": {},
   "source": [
    "5. Write a program to identify duplicate values from list \n",
    " "
   ]
  },
  {
   "cell_type": "code",
   "execution_count": 8,
   "metadata": {},
   "outputs": [],
   "source": [
    "#Identify duplicate value"
   ]
  },
  {
   "cell_type": "code",
   "execution_count": 9,
   "metadata": {},
   "outputs": [
    {
     "name": "stdout",
     "output_type": "stream",
     "text": [
      "Duplicated usman\n",
      "Duplicated ali\n",
      "Duplicated ali\n",
      "Duplicated 78\n",
      "Duplicated 2.05\n",
      "Duplicated 410\n",
      "Duplicated 410\n",
      "Duplicated usman\n",
      "Duplicated 78\n",
      "Duplicated 2.05\n"
     ]
    }
   ],
   "source": [
    "dupli_list = [\"usman\",  9, \"ali\",\"ali\",7, 78, .68, 91, 2.05, 410, 410, \"usman\", 78, 2.05,]\n",
    "for value in dupli_list:\n",
    "    if  dupli_list.count(value) > 1:\n",
    "        print(f\"Duplicated {value}\")"
   ]
  },
  {
   "cell_type": "markdown",
   "metadata": {},
   "source": [
    "6. Write a Python script to check if a given key already exists in a dictionary  \n",
    " "
   ]
  },
  {
   "cell_type": "code",
   "execution_count": 10,
   "metadata": {},
   "outputs": [],
   "source": [
    "#Existing Key in Dictionary "
   ]
  },
  {
   "cell_type": "code",
   "execution_count": 11,
   "metadata": {},
   "outputs": [
    {
     "name": "stdout",
     "output_type": "stream",
     "text": [
      "5 Keys already exists in dictionary\n"
     ]
    }
   ],
   "source": [
    "dic = { 1: \"key01\",\n",
    "          2: \"key02\",\n",
    "            3: \"key_a\",\n",
    "            4:  \"key_b\",\n",
    "            5:  \"key_z \",  }\n",
    "given_key = 5\n",
    "for key in dic.keys():\n",
    "    if key == given_key:\n",
    "        print(f\"{given_key} Keys already exists in dictionary\")\n"
   ]
  },
  {
   "cell_type": "markdown",
   "metadata": {},
   "source": [
    "# The End...."
   ]
  },
  {
   "cell_type": "code",
   "execution_count": null,
   "metadata": {},
   "outputs": [],
   "source": []
  },
  {
   "cell_type": "code",
   "execution_count": null,
   "metadata": {},
   "outputs": [],
   "source": []
  },
  {
   "cell_type": "code",
   "execution_count": null,
   "metadata": {},
   "outputs": [],
   "source": []
  }
 ],
 "metadata": {
  "kernelspec": {
   "display_name": "Python 3",
   "language": "python",
   "name": "python3"
  },
  "language_info": {
   "codemirror_mode": {
    "name": "ipython",
    "version": 3
   },
   "file_extension": ".py",
   "mimetype": "text/x-python",
   "name": "python",
   "nbconvert_exporter": "python",
   "pygments_lexer": "ipython3",
   "version": "3.7.3"
  }
 },
 "nbformat": 4,
 "nbformat_minor": 2
}
