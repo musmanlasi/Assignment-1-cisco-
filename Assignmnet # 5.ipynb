{
 "cells": [
  {
   "cell_type": "markdown",
   "metadata": {},
   "source": [
    "# Python Programming Language\n",
    "\n",
    "# Assignmnet # 5"
   ]
  },
  {
   "cell_type": "markdown",
   "metadata": {},
   "source": [
    "**Question 1.\n",
    "\n",
    "Write a Python function to calculate the factorial of a number (a non-negative integer). The Function accepts the number\n",
    "as an argument."
   ]
  },
  {
   "cell_type": "code",
   "execution_count": 1,
   "metadata": {},
   "outputs": [
    {
     "name": "stdout",
     "output_type": "stream",
     "text": [
      "Enter a number to Find the Factiorial : 9\n",
      "362880\n"
     ]
    }
   ],
   "source": [
    "def Factorial(n):\n",
    "    if n == 0:\n",
    "        return 1\n",
    "    else:\n",
    "        return n * Factorial(n-1)\n",
    "n=int(input(\"Enter a number to Find the Factiorial : \"))\n",
    "print(Factorial (n))\n"
   ]
  },
  {
   "cell_type": "markdown",
   "metadata": {},
   "source": [
    "**Question 2.\n",
    "\n",
    "Write a Python function that accepts a string and calculate a string and calculate the number of upper-case letters and\n",
    "lower case letters."
   ]
  },
  {
   "cell_type": "code",
   "execution_count": 2,
   "metadata": {},
   "outputs": [
    {
     "name": "stdout",
     "output_type": "stream",
     "text": [
      " Provided String  :  The Tale of The City of Gold : TO EL-DO-RADO\n",
      "Total Upper case characters :  15\n",
      "Total Lower case Characters :  17\n"
     ]
    }
   ],
   "source": [
    "def string(s):\n",
    "    o={\"UPPER_CASE\":0, \"LOWER_CASE\":0}\n",
    "    for p in s:\n",
    "        if p.isupper():\n",
    "           o[\"UPPER_CASE\"]+=1\n",
    "        elif p.islower():\n",
    "           o[\"LOWER_CASE\"]+=1\n",
    "        else:\n",
    "           pass\n",
    "    print (\" Provided String  : \", s)\n",
    "    print (\"Total Upper case characters : \", o[\"UPPER_CASE\"])\n",
    "    print (\"Total Lower case Characters : \", o[\"LOWER_CASE\"])\n",
    "\n",
    "string(\"The Tale of The City of Gold : TO EL-DO-RADO\")\n"
   ]
  },
  {
   "cell_type": "markdown",
   "metadata": {},
   "source": [
    "**Question 3.\n",
    "\n",
    "Write a Python function to print the even number from a given list\n"
   ]
  },
  {
   "cell_type": "code",
   "execution_count": 3,
   "metadata": {},
   "outputs": [
    {
     "name": "stdout",
     "output_type": "stream",
     "text": [
      "[0, 2, 4, 6, 8, 10, 20]\n"
     ]
    }
   ],
   "source": [
    "def E_No(x):\n",
    "    Even_No = []\n",
    "    for n in x:\n",
    "        if n % 2 == 0:\n",
    "            Even_No.append(n)\n",
    "    return Even_No\n",
    "print(E_No([0, 1, 2, 3, 4, 5, 6, 7, 8, 9, 10, 19, 20]))\n"
   ]
  },
  {
   "cell_type": "markdown",
   "metadata": {},
   "source": [
    "**Question 4.\n",
    "\n",
    "Write a Python function that checks whether a passed string is palindrome or not.\n",
    "NOTE: A Palindrome is a word phrase, or sequence that reads the same backward as forward e.g. madam.\n"
   ]
  },
  {
   "cell_type": "code",
   "execution_count": 4,
   "metadata": {},
   "outputs": [
    {
     "name": "stdout",
     "output_type": "stream",
     "text": [
      "Enter a String: level\n",
      "Checking Palindrome \n",
      "string:  level\n",
      "Reverse:  level\n",
      "It's a Palindrome\n"
     ]
    }
   ],
   "source": [
    "def check(Palindrome):\n",
    "    rev=Palindrome[::-1]\n",
    "    print(\"Checking Palindrome \")\n",
    "    print(\"string: \", Palindrome)\n",
    "    print(\"Reverse: \", rev)\n",
    "    if (Palindrome==rev):\n",
    "        return True\n",
    "    else:\n",
    "        return False\n",
    "\n",
    "p = input(\"Enter a String: \")\n",
    "if check(p):\n",
    "    print(\"It's a Palindrome\")\n",
    "else:\n",
    "    print(\"It's not a Palindrome\")"
   ]
  },
  {
   "cell_type": "markdown",
   "metadata": {},
   "source": [
    "**Question  5.\n",
    "\n",
    "Write a Python function that takes a number as a parameter and check the number is prime or not.\n"
   ]
  },
  {
   "cell_type": "code",
   "execution_count": 5,
   "metadata": {},
   "outputs": [
    {
     "name": "stdout",
     "output_type": "stream",
     "text": [
      "Enter A Number to Check It's Prime Or Not: 8\n",
      "8 is not a Prime Number\n"
     ]
    }
   ],
   "source": [
    "def number():\n",
    "    n = int(input(\"Enter A Number to Check It's Prime Or Not: \"))\n",
    "    if n > 1:\n",
    "        for p in range(2, n):\n",
    "            if (n % p) == 0:\n",
    "                print(n, \"is not a Prime Number\")\n",
    "                break\n",
    "        else:\n",
    "            print(n, \"is a Prime Number\")\n",
    "    else:\n",
    "        print(n, \"is not a Prime Number\")\n",
    "\n",
    "number()"
   ]
  },
  {
   "cell_type": "markdown",
   "metadata": {},
   "source": [
    "**Question  6.\n",
    "\n",
    "Suppose a customer is shopping in a market and you need to print all the items which user bought from market.\n",
    "NOTE: \n",
    "Write a function which accepts the multiple arguments of user shopping list and print all the items which user bought\n",
    "from market.\n",
    "(Hint: Arbitrary Argument concet can be make this task easy)"
   ]
  },
  {
   "cell_type": "code",
   "execution_count": 6,
   "metadata": {},
   "outputs": [
    {
     "name": "stdout",
     "output_type": "stream",
     "text": [
      "\n",
      "Enter the item you bought from market \n",
      "If you want to leave enter then 'quit': \n",
      "\n",
      "Enter the item you bought from market \n",
      "If you want to leave enter then 'quit': Sugar,yeast,flour,peanut butter\n",
      "\n",
      "Enter the item you bought from market \n",
      "If you want to leave enter then 'quit': cheddar cheese, ricotta cheese, \n",
      "\n",
      "Enter the item you bought from market \n",
      "If you want to leave enter then 'quit': salt,milk, cream , dark chocolate\n",
      "\n",
      "Enter the item you bought from market \n",
      "If you want to leave enter then 'quit': quit\n",
      "\n",
      " ******* Shopping List *******\n",
      "You bought:  ['', 'Sugar,yeast,flour,peanut butter', 'cheddar cheese, ricotta cheese, ', 'salt,milk, cream , dark chocolate']\n"
     ]
    }
   ],
   "source": [
    "def customer_shopping(*shopping_list):\n",
    "    print(\"\\n ******* Shopping List *******\")    \n",
    "    for element in shopping_list:\n",
    "        print(\"You bought: \",element)\n",
    "\n",
    "shopping_list = []\n",
    "\n",
    "while True:\n",
    "    items = input(\"\\nEnter the item you bought from market \\nIf you want to leave enter then 'quit': \")\n",
    "    if items == 'quit':\n",
    "        break\n",
    "    shopping_list.append(items)\n",
    "\n",
    "customer_shopping(shopping_list)"
   ]
  },
  {
   "cell_type": "markdown",
   "metadata": {},
   "source": [
    "# The End..."
   ]
  },
  {
   "cell_type": "code",
   "execution_count": null,
   "metadata": {},
   "outputs": [],
   "source": []
  }
 ],
 "metadata": {
  "kernelspec": {
   "display_name": "Python 3",
   "language": "python",
   "name": "python3"
  },
  "language_info": {
   "codemirror_mode": {
    "name": "ipython",
    "version": 3
   },
   "file_extension": ".py",
   "mimetype": "text/x-python",
   "name": "python",
   "nbconvert_exporter": "python",
   "pygments_lexer": "ipython3",
   "version": "3.7.3"
  }
 },
 "nbformat": 4,
 "nbformat_minor": 2
}
