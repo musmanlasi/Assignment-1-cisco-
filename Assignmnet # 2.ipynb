{
 "cells": [
  {
   "cell_type": "markdown",
   "metadata": {},
   "source": [
    "# Python Programming Language \n",
    "# Assignmnet # 2"
   ]
  },
  {
   "cell_type": "markdown",
   "metadata": {},
   "source": [
    "1. Write a program which takes 5 inputs from user for different subject’s marks, total it and generate mark sheet using grades ?"
   ]
  },
  {
   "cell_type": "code",
   "execution_count": 1,
   "metadata": {},
   "outputs": [],
   "source": [
    "# Mark Sheet."
   ]
  },
  {
   "cell_type": "code",
   "execution_count": 3,
   "metadata": {},
   "outputs": [
    {
     "name": "stdout",
     "output_type": "stream",
     "text": [
      "Enter marks of each subject to generate marksheet :\n",
      "English : 96\n",
      "Mathematics : 93\n",
      "Physics : 86\n",
      "Statics : 84\n",
      "Computer : 91\n",
      "\n",
      "Marksheet :\n",
      "^^^^^^^^^^^^^^^^^^^^^^^^^^^^^^^^^^^^^^^^^^^^^^^^^^^^^\n",
      "Subject :\t Obtained Marks : \t Total Marks :  \n",
      "-----------------------------------------------------\n",
      " English : \t 96.0     \t : \t\t 100:\n",
      " Mathematics : \t 93.0     \t : \t\t 100:\n",
      " Physics : \t 86.0       \t : \t\t 100:\n",
      " Statics : \t 84.0     \t : \t\t 100:\n",
      " Computer : \t 91.0     \t : \t\t 100:\n",
      "_____________________________________________________\n",
      "Total     : \t 450.0     \t : \t\t 500      :\n",
      "Grade Obtained : A\n",
      "^^^^^^^^^^^^^^^^^^^^^^^^^^^^^^^^^^^^^^^^^^^^^^^^^^^^^\n",
      "-----------------------------------------------------\n"
     ]
    }
   ],
   "source": [
    "#Userinput\n",
    "msg = \"Enter marks of each subject to generate marksheet :\\n\"\n",
    "English           = float (input(msg + \"English : \"))\n",
    "Maths             = float (input(\"Mathematics : \"))\n",
    "Physics           = float (input(\"Physics : \"))\n",
    "Statics           = float (input(\"Statics : \"))\n",
    "Computer          = float (input(\"Computer : \"))\n",
    "total = English + Maths + Physics + Statics + Computer\n",
    "per = (total/500)*100\n",
    "#Grading\n",
    "if per >= 80 and per <= 100:\n",
    "    grade = 'A'\n",
    "elif per >= 60 and per <80:\n",
    "    grade = 'B'\n",
    "elif per >= 40 and per <60:\n",
    "    grade = 'C'\n",
    "elif per < 40:\n",
    "    \n",
    "    grade = 'D'\n",
    "\n",
    "# Marksheet\n",
    "print(\"\\nMarksheet :\")\n",
    "print(\"^^^^^^^^^^^^^^^^^^^^^^^^^^^^^^^^^^^^^^^^^^^^^^^^^^^^^\")\n",
    "print(\"Subject :\\t Obtained Marks : \\t Total Marks :  \")\n",
    "print(\"-----------------------------------------------------\")\n",
    "print(f\" English : \\t {English}     \\t : \\t\\t 100:\")\n",
    "print(f\" Mathematics : \\t {Maths}     \\t : \\t\\t 100:\")\n",
    "print(f\" Physics : \\t {Physics}       \\t : \\t\\t 100:\")\n",
    "print(f\" Statics : \\t {Statics}     \\t : \\t\\t 100:\")\n",
    "print(f\" Computer : \\t {Computer }     \\t : \\t\\t 100:\")\n",
    "print(\"_____________________________________________________\")\n",
    "print(f\"Total     : \\t {total}     \\t : \\t\\t 500      :\")\n",
    "print(f\"Grade Obtained : {grade}\")\n",
    "print(\"^^^^^^^^^^^^^^^^^^^^^^^^^^^^^^^^^^^^^^^^^^^^^^^^^^^^^\")\n",
    "print(\"-----------------------------------------------------\")"
   ]
  },
  {
   "cell_type": "markdown",
   "metadata": {},
   "source": [
    "2. Write a program which take input from user and identify that the given number is even or odd?"
   ]
  },
  {
   "cell_type": "code",
   "execution_count": 4,
   "metadata": {},
   "outputs": [],
   "source": [
    "# Even or Odd Number"
   ]
  },
  {
   "cell_type": "code",
   "execution_count": 5,
   "metadata": {},
   "outputs": [
    {
     "name": "stdout",
     "output_type": "stream",
     "text": [
      "Enter a number to check : 1864\n",
      "Number is even !\n"
     ]
    }
   ],
   "source": [
    "num = int(input(\"Enter a number to check : \"))\n",
    "if num%2 == 0:\n",
    "    print(\"Number is even !\")\n",
    "elif num%2 != 0:\n",
    "    print(\"Number is odd !\")"
   ]
  },
  {
   "cell_type": "markdown",
   "metadata": {},
   "source": [
    "3. Write a program which print the length of the list? "
   ]
  },
  {
   "cell_type": "code",
   "execution_count": 6,
   "metadata": {},
   "outputs": [],
   "source": [
    "#Length of List"
   ]
  },
  {
   "cell_type": "code",
   "execution_count": 11,
   "metadata": {},
   "outputs": [
    {
     "name": "stdout",
     "output_type": "stream",
     "text": [
      "7\n"
     ]
    }
   ],
   "source": [
    "List  = [2, 4, 6, 8, 10, 12, 14]\n",
    "print(len(List))"
   ]
  },
  {
   "cell_type": "markdown",
   "metadata": {},
   "source": [
    "4. Write a Python program to sum all the numeric items in a list? \n",
    " "
   ]
  },
  {
   "cell_type": "code",
   "execution_count": 7,
   "metadata": {},
   "outputs": [],
   "source": [
    "#Sum of All the Numeric Items"
   ]
  },
  {
   "cell_type": "code",
   "execution_count": 20,
   "metadata": {},
   "outputs": [
    {
     "name": "stdout",
     "output_type": "stream",
     "text": [
      "36\n"
     ]
    }
   ],
   "source": [
    "sumlist = [0, 1, 3, 5, 7, 9, 11]\n",
    "sum = 0\n",
    "for num in sumlist:\n",
    "    sum = sum + num\n",
    "    \n",
    "print(sum)"
   ]
  },
  {
   "cell_type": "markdown",
   "metadata": {},
   "source": [
    "5. Write a Python program to get the largest number from a numeric list. \n",
    " "
   ]
  },
  {
   "cell_type": "code",
   "execution_count": 21,
   "metadata": {},
   "outputs": [],
   "source": [
    "#Acquire Largest Number"
   ]
  },
  {
   "cell_type": "code",
   "execution_count": 23,
   "metadata": {},
   "outputs": [
    {
     "data": {
      "text/plain": [
       "974"
      ]
     },
     "execution_count": 23,
     "metadata": {},
     "output_type": "execute_result"
    }
   ],
   "source": [
    "list01 = [0, 6, 9, 8, 1, 369, 3, 7, 11, 60, 90, 41, 974]\n",
    "max(list01)"
   ]
  },
  {
   "cell_type": "markdown",
   "metadata": {},
   "source": [
    "6. Take a list, say for example this one:  \n",
    "   a = [1, 1, 2, 3, 5, 8, 13, 21, 34, 55, 89] \n",
    "and write a program that prints out all the elements of the list that are less than 5."
   ]
  },
  {
   "cell_type": "code",
   "execution_count": 24,
   "metadata": {},
   "outputs": [],
   "source": [
    "#Elements of list less than 5"
   ]
  },
  {
   "cell_type": "code",
   "execution_count": 32,
   "metadata": {},
   "outputs": [
    {
     "name": "stdout",
     "output_type": "stream",
     "text": [
      "1\n",
      "1\n",
      "2\n",
      "3\n",
      "4\n"
     ]
    }
   ],
   "source": [
    "a = [1, 1, 2, 3, 4,  5, 8, 13, 21, 34, 55, 89]\n",
    "for num in a:\n",
    "    if num < 5:\n",
    "         print(num)"
   ]
  },
  {
   "cell_type": "markdown",
   "metadata": {},
   "source": [
    " #              THE END..."
   ]
  },
  {
   "cell_type": "code",
   "execution_count": null,
   "metadata": {},
   "outputs": [],
   "source": []
  }
 ],
 "metadata": {
  "kernelspec": {
   "display_name": "Python 3",
   "language": "python",
   "name": "python3"
  },
  "language_info": {
   "codemirror_mode": {
    "name": "ipython",
    "version": 3
   },
   "file_extension": ".py",
   "mimetype": "text/x-python",
   "name": "python",
   "nbconvert_exporter": "python",
   "pygments_lexer": "ipython3",
   "version": "3.7.3"
  }
 },
 "nbformat": 4,
 "nbformat_minor": 2
}
