{
 "cells": [
  {
   "cell_type": "markdown",
   "metadata": {},
   "source": [
    "# Python Programming Language\n",
    "\n",
    "# Assignmnet # 4"
   ]
  },
  {
   "cell_type": "markdown",
   "metadata": {},
   "source": [
    "**Question1:\n",
    "\n",
    "Use a dictionary to store information about a person you know. Store their first name, last name, age,\n",
    "and the city in which they live. You should have keys such as first_name, last_name, age, and city. Print\n",
    "each piece of information stored in your dictionary. Add a new key value pair about qualification then\n",
    "update the qualification value to high academic level then delete it.\n"
   ]
  },
  {
   "cell_type": "code",
   "execution_count": 14,
   "metadata": {},
   "outputs": [
    {
     "name": "stdout",
     "output_type": "stream",
     "text": [
      "\n",
      "   *    Personal Information \n",
      "\n",
      "First_name :    Muhammad\n",
      "Last_name :     Usman\n",
      "Age :           20 Years\n",
      "City :          HUB\n",
      "\n",
      "   *     Qualification Added \n",
      "First_name :    Muhammad\n",
      "Last_name :     Usman\n",
      "Age :           20 Years\n",
      "City :          HUB\n",
      "Qualification : Intermediate\n",
      "\n",
      "   *     Qualification Updated   \n",
      "First_name :    Muhammad\n",
      "Last_name :     Usman\n",
      "Age :           20 Years\n",
      "City :          HUB\n",
      "Qualification : High Academic\n",
      "\n",
      "   *    Qualification Deleted    \n",
      "First_name :    Muhammad\n",
      "Last_name :     Usman\n",
      "Age :           20 Years\n",
      "City :          HUB\n"
     ]
    }
   ],
   "source": [
    "print(\"\\n   *    Personal Information \\n\")\n",
    "info_dict={\"First_name\"  :\"   Muhammad\",\n",
    "           \"Last_name\"   : \"    Usman\",\n",
    "           \"Age\"         :\"          20 Years\",\n",
    "           \"City\":\"         HUB\"}\n",
    "for key, value in info_dict.items():\n",
    "    print(key+\" : \"+value)\n",
    "print(\"\\n   *     Qualification Added \")\n",
    "info_dict[\"Qualification\"]=\"Intermediate\"\n",
    "for key, value in info_dict.items():\n",
    "    print(key+\" : \"+value)\n",
    "print(\"\\n   *     Qualification Updated   \")\n",
    "info_dict[\"Qualification\"]=\"High Academic\"\n",
    "for key, value in info_dict.items():\n",
    "    print(key+\" : \"+value)\n",
    "#Deleting Qualification: High Academic Level..\n",
    "print(\"\\n   *    Qualification Deleted    \")\n",
    "del info_dict['Qualification']\n",
    "\n",
    "for key, value in info_dict.items():\n",
    "    print(key+\" : \"+value)"
   ]
  },
  {
   "cell_type": "markdown",
   "metadata": {},
   "source": [
    "**Question2:\n",
    "\n",
    "Make a dictionary called cities. Use the names of three cities as keys in your dictionary. Create a\n",
    "dictionary of information about each city and include the country that the city is in, its approximate\n",
    "population, and one fact about that city. The keys for each city’s dictionary should be something like\n",
    "country, population, and fact. Print the name of each city and all of the information you have stored\n",
    "about it.\n"
   ]
  },
  {
   "cell_type": "code",
   "execution_count": 15,
   "metadata": {},
   "outputs": [
    {
     "name": "stdout",
     "output_type": "stream",
     "text": [
      "\n",
      "*  Karachi\n",
      "\n",
      "Country     :   Pakistan\n",
      "Population  :   15.5 million approx. (2018)\n",
      "Area        :   3,780 km²\n",
      "Information about city : \n",
      "  Karachi is Backbone of Pakistan's economy which is the most populous city in Pakistan, and fifth-most-populous city proper in the world ranked  \n",
      "\n",
      "*  Beijing\n",
      "\n",
      "Country     :   Pakistan\n",
      "Population  :   21.54 million approx. (2018)\n",
      "Area        :   16,808 km²\n",
      "Information about city : \n",
      "  Beijing Capital of China and China’s sprawling capital, has history stretching back 3 millennia\n",
      "\n",
      "*  Moscow\n",
      "\n",
      "Country     :  Russia \n",
      "Population  :   11.5 million approx. \n",
      "Area        :   2,511 km²\n",
      "Information about city : \n",
      "  Moscow Capital of Russia.Moscow is a major political, economic, cultural, and scientific center of Russia and Eastern Europe, as well as the largest city (by area) on the European continent\n"
     ]
    }
   ],
   "source": [
    "cities={\n",
    "   \"*  Karachi\":{\n",
    "        \"Country    \":\"  Pakistan\",\n",
    "        \"Population \":    \"  15.5 million approx. (2018)\",\n",
    "        \"Area       \":      \"  3,780 km²\" ,\n",
    "        \"Information about city\":\"\\n  Karachi is Backbone of Pakistan's economy which is the most populous city in Pakistan, and fifth-most-populous city proper in the world ranked  \"\n",
    "    },\n",
    "\n",
    "     \"*  Beijing\":{\n",
    "        \"Country    \":\"  Pakistan\",\n",
    "        \"Population \":    \"  21.54 million approx. (2018)\",\n",
    "        \"Area       \":      \"  16,808 km²\" ,\n",
    "        \"Information about city\":\"\\n  Beijing Capital of China and China’s sprawling capital, has history stretching back 3 millennia\"\n",
    "    },\n",
    "    \n",
    "         \"*  Moscow\":{\n",
    "        \"Country    \":\" Russia \",\n",
    "        \"Population \":    \"  11.5 million approx. \",\n",
    "        \"Area       \":      \"  2,511 km²\" ,\n",
    "        \"Information about city\":\"\\n  Moscow Capital of Russia.Moscow is a major political, economic, cultural, and scientific center of Russia and Eastern Europe, as well as the largest city (by area) on the European continent\"},\n",
    "}\n",
    "for citykey,cityinfo in cities.items():\n",
    "    print(\"\\n\"+citykey+\"\\n\")\n",
    "    for city in cityinfo:\n",
    "        print(city+\" : \"+str(cityinfo[city]))"
   ]
  },
  {
   "cell_type": "markdown",
   "metadata": {},
   "source": [
    "**Question3:\n",
    "\n",
    "A movie theater charges different ticket prices depending on a person’s age. If a person is under the age\n",
    "of 3, the ticket is free; if they are between 3 and 12, the ticket is $10 ; and  if they  are over age 12, the\n",
    "ticket is $15. Write a loop in which you ask users their age, and then tell them the cost of their movie\n",
    "ticket."
   ]
  },
  {
   "cell_type": "code",
   "execution_count": 16,
   "metadata": {},
   "outputs": [
    {
     "name": "stdout",
     "output_type": "stream",
     "text": [
      "Your Age Please! : 14\n",
      "Your Ticket's amount is 15$\n",
      "Thank You and Enjoy the Movie\n"
     ]
    }
   ],
   "source": [
    "#Looping\n",
    "\n",
    "Age=int(input(\"Your Age Please! : \"))\n",
    "if Age>12:\n",
    "        print(\"Your Ticket's amount is 15$\") \n",
    "elif Age>=3:\n",
    "        print(\"Your Ticket's amount is 10$\")\n",
    "else:\n",
    "        print(\"Your Ticket's amount is  free\")\n",
    "print(\"Thank You and Enjoy the Movie\")\n",
    "\n",
    "        "
   ]
  },
  {
   "cell_type": "markdown",
   "metadata": {},
   "source": [
    "**Question4:\n",
    "    \n",
    "Write a function called favorite_book() that accepts one parameter, title. The function should print a\n",
    "message, such as One of my favorite books is Alice in Wonderland. Call the function, making sure to\n",
    "include a book title as an argument in the function call.\n"
   ]
  },
  {
   "cell_type": "code",
   "execution_count": 17,
   "metadata": {},
   "outputs": [
    {
     "name": "stdout",
     "output_type": "stream",
     "text": [
      "One of my favourite books is Alice in Wonderland but \n",
      "My Favorite Book The Obstacles\n"
     ]
    }
   ],
   "source": [
    "def favourite_book(title):\n",
    "    print(title)\n",
    "book=\"One of my favourite books is Alice in Wonderland but \"\n",
    "if((book)!=0):\n",
    "    favourite_book(book)\n",
    "    favourite_book = input(\"My Favorite Book \")\n",
    "else:\n",
    "    print(\"My favourite book is\",favourite_book)\n",
    "    "
   ]
  },
  {
   "cell_type": "markdown",
   "metadata": {},
   "source": [
    "**Question5:\n",
    "    \n",
    "Guess the number game\n",
    "Write a program which randomly generate a number between 1 to 30 and ask the user in input field to\n",
    "guess the correct number. Give three chances to user guess the number and also give hint to user if\n",
    "hidden number is greater or smaller than the number he given to input field."
   ]
  },
  {
   "cell_type": "code",
   "execution_count": 18,
   "metadata": {},
   "outputs": [
    {
     "name": "stdout",
     "output_type": "stream",
     "text": [
      "Guess the correct number between 1 and 30: 15\n",
      "Wrong! \n",
      "Hidden number is Smaller\n",
      "\n",
      "Guess the correct number between 1 and 30: 10\n",
      "Wrong! \n",
      "Hidden number is greater\n",
      "\n",
      "Guess the correct number between 1 and 30: 14\n",
      "Wrong! \n",
      "Hidden number is Smaller\n",
      "\n"
     ]
    }
   ],
   "source": [
    "import random\n",
    "x=0\n",
    "Number=5\n",
    "while x<3:\n",
    "    Number=int(random.randrange(1,30))\n",
    "    userNumber=int(input(\"Guess the correct number between 1 and 30: \"))\n",
    "    x=x+1\n",
    "    if Number>userNumber:\n",
    "        print(\"Wrong! \\nHidden number is greater\\n\")\n",
    "    elif Number<userNumber:\n",
    "        print(\"Wrong! \\nHidden number is Smaller\\n\")\n",
    "    elif Number==userNumber:\n",
    "        print(\"Hidden number is equal\\n\")"
   ]
  },
  {
   "cell_type": "markdown",
   "metadata": {},
   "source": [
    "# Assignment Completed!!!\n",
    "# THE END "
   ]
  },
  {
   "cell_type": "code",
   "execution_count": null,
   "metadata": {},
   "outputs": [],
   "source": []
  },
  {
   "cell_type": "code",
   "execution_count": null,
   "metadata": {},
   "outputs": [],
   "source": []
  }
 ],
 "metadata": {
  "kernelspec": {
   "display_name": "Python 3",
   "language": "python",
   "name": "python3"
  },
  "language_info": {
   "codemirror_mode": {
    "name": "ipython",
    "version": 3
   },
   "file_extension": ".py",
   "mimetype": "text/x-python",
   "name": "python",
   "nbconvert_exporter": "python",
   "pygments_lexer": "ipython3",
   "version": "3.7.3"
  }
 },
 "nbformat": 4,
 "nbformat_minor": 2
}
